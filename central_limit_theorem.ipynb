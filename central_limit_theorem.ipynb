{
 "cells": [
  {
   "cell_type": "markdown",
   "metadata": {},
   "source": [
    "## Central Limit Theorem Demonstration"
   ]
  },
  {
   "cell_type": "code",
   "execution_count": null,
   "metadata": {},
   "outputs": [],
   "source": [
    "%matplotlib inline\n",
    "import matplotlib.pyplot as plt\n",
    "import numpy as np"
   ]
  },
  {
   "cell_type": "markdown",
   "metadata": {},
   "source": [
    "### Set up series of random uniform distributions\n",
    "The central limit theorem states that for random processes, if we measure the mean of independent random variates the distribution of the means of those distributions will be Gaussianly distributed. This result is independent of the character of the random distribution. We can show this by using a collectiom of uniform random variates, and measuring  the mean many times."
   ]
  },
  {
   "cell_type": "code",
   "execution_count": null,
   "metadata": {},
   "outputs": [],
   "source": [
    "n_exp = 10000\n",
    "n_draw = 10\n",
    "n_bins = 100\n",
    "x_min  = 0.15\n",
    "x_max  = 0.85\n",
    "\n",
    "means = np.zeros(n_exp)"
   ]
  },
  {
   "cell_type": "markdown",
   "metadata": {},
   "source": [
    "### Let's perform the experiment"
   ]
  },
  {
   "cell_type": "code",
   "execution_count": null,
   "metadata": {},
   "outputs": [],
   "source": [
    "for i in range(n_exp):\n",
    "    \n",
    "    z = np.random.uniform(0.,1.,n_draw)\n",
    "    \n",
    "    means[i] = np.mean(z)\n",
    "    "
   ]
  },
  {
   "cell_type": "markdown",
   "metadata": {},
   "source": [
    "### Define function to plot a Gaussian"
   ]
  },
  {
   "cell_type": "code",
   "execution_count": null,
   "metadata": {},
   "outputs": [],
   "source": [
    "def gaussian(x, mu, sigma):\n",
    "    return 1./(2.0*np.pi*sigma**2)**0.5 * np.exp(-0.5*((x-mu)/sigma)**2)"
   ]
  },
  {
   "cell_type": "markdown",
   "metadata": {},
   "source": [
    "### Now let's histogram the means and plot them"
   ]
  },
  {
   "cell_type": "code",
   "execution_count": null,
   "metadata": {},
   "outputs": [],
   "source": [
    "fig = plt.figure(figsize=(7,7))\n",
    "y_hist, x_hist, ignored = plt.hist(means, bins=n_bins, range=[x_min,x_max], density=True)\n",
    "xx = np.linspace(x_min,x_max,1000)\n",
    "\n",
    "sigma = 1./12.**0.5 / 10.**0.5\n",
    "\n",
    "plt.plot(xx,gaussian(xx,0.5,sigma),color=\"red\")\n",
    "plt.ylim([0,1.1*gaussian(0.5,0.5,sigma)])\n",
    "plt.xlim([x_min,x_max])\n",
    "plt.xlabel('x')\n",
    "plt.ylabel('y(x)')\n",
    "plt.show()"
   ]
  },
  {
   "cell_type": "markdown",
   "metadata": {},
   "source": [
    "Now, let's generate some random data about a trend line"
   ]
  },
  {
   "cell_type": "code",
   "execution_count": null,
   "metadata": {},
   "outputs": [],
   "source": [
    "np.random.seed(119)\n",
    "\n",
    "npoints = 50\n",
    "\n",
    "x = np.linspace(0,10.,npoints)\n",
    "\n",
    "m = 2.0\n",
    "b = 1.0\n",
    "sigma = 2.0\n",
    "\n",
    "y = m*x + b + np.random.normal(scale=sigma, size=npoints)\n",
    "y_err = np.full(npoints, sigma)"
   ]
  },
  {
   "cell_type": "code",
   "execution_count": null,
   "metadata": {},
   "outputs": [],
   "source": [
    "f = plt.figure(figsize=(7,7))\n",
    "plt.errorbar(x, y, yerr=y_err, fmt='o')\n",
    "plt.xlabel('x')\n",
    "plt.ylabel('y')"
   ]
  },
  {
   "cell_type": "markdown",
   "metadata": {},
   "source": [
    "### Method 1-polyfit()"
   ]
  },
  {
   "cell_type": "code",
   "execution_count": null,
   "metadata": {},
   "outputs": [],
   "source": [
    "m_fit, b_fit = np.poly1d(np.polyfit(x, y, 1, w=1./y_err))\n",
    "print(m_fit, b_fit)\n",
    "\n",
    "y_fit = m_fit*x + b_fit"
   ]
  },
  {
   "cell_type": "markdown",
   "metadata": {},
   "source": [
    "### Plot result"
   ]
  },
  {
   "cell_type": "code",
   "execution_count": null,
   "metadata": {},
   "outputs": [],
   "source": [
    "f = plt.figure(figsize=(7,7))\n",
    "plt.errorbar(x, y, yerr=y_err, fmt='o', label='data')\n",
    "plt.plot(x, y_fit, label='fit')\n",
    "plt.xlabel('x')\n",
    "plt.ylabel('y')\n",
    "plt.legend(loc=2, frameon=False)"
   ]
  },
  {
   "cell_type": "markdown",
   "metadata": {},
   "source": [
    "## A new hope: linear regression"
   ]
  },
  {
   "cell_type": "code",
   "execution_count": null,
   "metadata": {},
   "outputs": [],
   "source": [
    "m_A = 0.0\n",
    "m_B = 0.0\n",
    "m_C = 0.0\n",
    "m_D = 0.0\n",
    "\n",
    "m_A = np.sum(x*y)\n",
    "m_B = np.sum(x)*np.sum(y)\n",
    "m_C = np.sum(x*x)\n",
    "m_D = np.sum(x)**2\n",
    "\n",
    "m_fit_lr = (float(npoints)*m_A - m_B)/(float(npoints)*m_C - m_D)\n",
    "\n",
    "y_mean = np.mean(y)\n",
    "x_mean = np.mean(x)\n",
    "\n",
    "b_fit_lr = y_mean - m_fit_lr*x_mean\n",
    "\n",
    "y_fit_lr = m_fit_lr * x + b_fit_lr\n",
    "\n",
    "print(m_fit_lr, b_fit_lr)"
   ]
  },
  {
   "cell_type": "markdown",
   "metadata": {},
   "source": [
    "### Plot the result"
   ]
  },
  {
   "cell_type": "code",
   "execution_count": null,
   "metadata": {},
   "outputs": [],
   "source": [
    "f = plt.figure(figsize=(7,7))\n",
    "plt.errorbar(x, y, yerr=y_err, fmt='o', label='data')\n",
    "plt.plot(x, y_fit_lr, 'o', label='linear reg')\n",
    "plt.plot(x, y_fit, label='fit')\n",
    "plt.xlabel('x')\n",
    "plt.ylabel('y')\n",
    "plt.legend(loc=2, frameon=False)"
   ]
  },
  {
   "cell_type": "code",
   "execution_count": null,
   "metadata": {},
   "outputs": [],
   "source": []
  }
 ],
 "metadata": {
  "kernelspec": {
   "display_name": "Python 3",
   "language": "python",
   "name": "python3"
  },
  "language_info": {
   "codemirror_mode": {
    "name": "ipython",
    "version": 3
   },
   "file_extension": ".py",
   "mimetype": "text/x-python",
   "name": "python",
   "nbconvert_exporter": "python",
   "pygments_lexer": "ipython3",
   "version": "3.6.5"
  }
 },
 "nbformat": 4,
 "nbformat_minor": 2
}
